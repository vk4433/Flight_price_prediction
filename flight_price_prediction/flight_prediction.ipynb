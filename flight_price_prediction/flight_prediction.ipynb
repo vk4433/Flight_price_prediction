{
  "nbformat": 4,
  "nbformat_minor": 0,
  "metadata": {
    "colab": {
      "private_outputs": true,
      "provenance": []
    },
    "kernelspec": {
      "name": "python3",
      "display_name": "Python 3"
    },
    "language_info": {
      "name": "python"
    }
  },
  "cells": [
    {
      "cell_type": "code",
      "execution_count": null,
      "metadata": {
        "id": "NyZW7L8_eUXA"
      },
      "outputs": [],
      "source": [
        "import pandas as pd\n",
        "import numpy as np\n",
        "import matplotlib.pyplot as plt\n",
        "import seaborn as sns"
      ]
    },
    {
      "cell_type": "markdown",
      "source": [
        "# load dataset"
      ],
      "metadata": {
        "id": "dCTymnkDhF_u"
      }
    },
    {
      "cell_type": "code",
      "source": [
        "data = pd.read_excel(\"/content/Data_Train.xlsx\")"
      ],
      "metadata": {
        "id": "3HqpnU7tfXn9"
      },
      "execution_count": null,
      "outputs": []
    },
    {
      "cell_type": "markdown",
      "source": [
        "# Data pre-processing"
      ],
      "metadata": {
        "id": "PTiDDmKbhLQU"
      }
    },
    {
      "cell_type": "code",
      "source": [
        "data.head()"
      ],
      "metadata": {
        "id": "gRv_ySE5fl9x"
      },
      "execution_count": null,
      "outputs": []
    },
    {
      "cell_type": "code",
      "source": [
        "data.shape"
      ],
      "metadata": {
        "id": "W0xXmQdrf6KX"
      },
      "execution_count": null,
      "outputs": []
    },
    {
      "cell_type": "markdown",
      "source": [
        "Checking null values"
      ],
      "metadata": {
        "id": "Pbao9Fk4hl13"
      }
    },
    {
      "cell_type": "code",
      "source": [
        "data.isnull().sum()"
      ],
      "metadata": {
        "id": "-74mHdmDgMAC"
      },
      "execution_count": null,
      "outputs": []
    },
    {
      "cell_type": "code",
      "source": [
        "data.dropna(inplace=True)"
      ],
      "metadata": {
        "id": "xCviCnArgWRk"
      },
      "execution_count": null,
      "outputs": []
    },
    {
      "cell_type": "code",
      "source": [
        "data[[\"Dep_hr\",\"Dep_min\"]] = data[\"Dep_Time\"].str.split(\":\",expand=True)"
      ],
      "metadata": {
        "id": "ZPXopB2OiGsK"
      },
      "execution_count": null,
      "outputs": []
    },
    {
      "cell_type": "code",
      "source": [
        "data.head(5)"
      ],
      "metadata": {
        "id": "mNi4rFpdiwsZ"
      },
      "execution_count": null,
      "outputs": []
    },
    {
      "cell_type": "code",
      "source": [
        "data = data.drop(columns=[\"Date_of_Journey\",\"Dep_Time\",\"Route\"],axis=0)"
      ],
      "metadata": {
        "id": "yufc-CRJi1l2"
      },
      "execution_count": null,
      "outputs": []
    },
    {
      "cell_type": "code",
      "source": [
        "data.head(5)"
      ],
      "metadata": {
        "id": "R6hktKOzjSQM"
      },
      "execution_count": null,
      "outputs": []
    },
    {
      "cell_type": "code",
      "source": [
        "data[\"Arrival_Time\"]=pd.to_datetime(data[\"Arrival_Time\"])"
      ],
      "metadata": {
        "id": "MSscfuxZjqmI"
      },
      "execution_count": null,
      "outputs": []
    },
    {
      "cell_type": "code",
      "source": [
        "data[\"arr_hour\"]=data[\"Arrival_Time\"].dt.hour\n",
        "data[\"arr_min\"]=data[\"Arrival_Time\"].dt.minute"
      ],
      "metadata": {
        "id": "ok6NmBh6kJb-"
      },
      "execution_count": null,
      "outputs": []
    },
    {
      "cell_type": "code",
      "source": [
        "data=data.drop(\"Arrival_Time\",axis=1)"
      ],
      "metadata": {
        "id": "biFdxseElW_x"
      },
      "execution_count": null,
      "outputs": []
    },
    {
      "cell_type": "code",
      "source": [
        "data.head(2)"
      ],
      "metadata": {
        "id": "N23m_l4Ulx9L"
      },
      "execution_count": null,
      "outputs": []
    },
    {
      "cell_type": "code",
      "source": [
        "duration_hours = [int(x.split('h')[0].strip()) if 'h' in x else 0 for x in\n",
        " data['Duration']]\n",
        "duration_mins = [int(x.split('m')[0].split()[-1].strip()) if 'm' in x else 0\n",
        "for x in data['Duration']]"
      ],
      "metadata": {
        "id": "FAxfuUhTnZsT"
      },
      "execution_count": null,
      "outputs": []
    },
    {
      "cell_type": "code",
      "source": [
        "data['Duration_hours']=duration_hours\n",
        "data['Duration_mins']=duration_mins\n"
      ],
      "metadata": {
        "id": "rxgViMqinv7P"
      },
      "execution_count": null,
      "outputs": []
    },
    {
      "cell_type": "code",
      "source": [
        "data.head(2)"
      ],
      "metadata": {
        "id": "eDfkQdHVn-9g"
      },
      "execution_count": null,
      "outputs": []
    },
    {
      "cell_type": "code",
      "source": [
        "data=data.drop(columns=[\"Duration\",\"Additional_Info\"],axis=1)"
      ],
      "metadata": {
        "id": "txY3lK-yoJ6e"
      },
      "execution_count": null,
      "outputs": []
    },
    {
      "cell_type": "code",
      "source": [
        "data.head(2)"
      ],
      "metadata": {
        "id": "bocj_cK9oi3X"
      },
      "execution_count": null,
      "outputs": []
    },
    {
      "cell_type": "code",
      "source": [
        "from sklearn.preprocessing import LabelEncoder\n",
        "le=LabelEncoder()"
      ],
      "metadata": {
        "id": "fqTbPxNitNSs"
      },
      "execution_count": null,
      "outputs": []
    },
    {
      "cell_type": "code",
      "source": [
        "data.replace({'non-stop':0, '1 stop':1, '2 stops':2, '3 stops':3, '4 stops':4},inplace=True)"
      ],
      "metadata": {
        "id": "5rA3IMsHuV2O"
      },
      "execution_count": null,
      "outputs": []
    },
    {
      "cell_type": "code",
      "source": [
        "#data[\"Total_Stops\"]=le.fit_transform(data[\"Total_Stops\"])"
      ],
      "metadata": {
        "id": "oVmUdgf0rzBB"
      },
      "execution_count": null,
      "outputs": []
    },
    {
      "cell_type": "code",
      "source": [
        "data[\"Total_Stops\"].value_counts()"
      ],
      "metadata": {
        "id": "wPGCsikEtKnY"
      },
      "execution_count": null,
      "outputs": []
    },
    {
      "cell_type": "code",
      "source": [
        "data.head(2)"
      ],
      "metadata": {
        "id": "mqfuQuffttzK"
      },
      "execution_count": null,
      "outputs": []
    },
    {
      "cell_type": "code",
      "source": [
        "a = pd.get_dummies(data=data,columns=[\"Airline\",\"Source\",\"Destination\"],drop_first=True)"
      ],
      "metadata": {
        "id": "s5zztb-Tw7Pq"
      },
      "execution_count": null,
      "outputs": []
    },
    {
      "cell_type": "code",
      "source": [
        "a.head(2)"
      ],
      "metadata": {
        "id": "AlxMtRBiyKyn"
      },
      "execution_count": null,
      "outputs": []
    },
    {
      "cell_type": "code",
      "source": [
        "a.shape"
      ],
      "metadata": {
        "id": "8cqqBoXjyoKE"
      },
      "execution_count": null,
      "outputs": []
    },
    {
      "cell_type": "code",
      "source": [
        "x=a.drop(\"Price\",axis=1)\n",
        "y=a[\"Price\"]"
      ],
      "metadata": {
        "id": "r7vxDJt_qXhT"
      },
      "execution_count": null,
      "outputs": []
    },
    {
      "cell_type": "code",
      "source": [
        "plt.figure(figsize=(10,10))\n",
        "sns.heatmap(a.corr(),annot=True)\n",
        "plt.show()"
      ],
      "metadata": {
        "id": "CtrKh55iq--8"
      },
      "execution_count": null,
      "outputs": []
    },
    {
      "cell_type": "markdown",
      "source": [
        "# future scaling"
      ],
      "metadata": {
        "id": "TNwKkUaEspgZ"
      }
    },
    {
      "cell_type": "code",
      "source": [
        "from sklearn.ensemble import GradientBoostingRegressor\n",
        "gb=GradientBoostingRegressor()"
      ],
      "metadata": {
        "id": "5gclTbUEso-3"
      },
      "execution_count": null,
      "outputs": []
    },
    {
      "cell_type": "code",
      "source": [
        "gb.fit(x,y)\n",
        "print(gb.feature_importances_)"
      ],
      "metadata": {
        "id": "yTGh4Wr-tC9T"
      },
      "execution_count": null,
      "outputs": []
    },
    {
      "cell_type": "code",
      "source": [
        "plt.figure(figsize=(12,8))\n",
        "model=pd.Series(model.feature_importances_,index=x.columns)\n",
        "model.nlargest(20).plot(kind='barh')\n",
        "plt.show()"
      ],
      "metadata": {
        "id": "ggQ2HNvZXQDN"
      },
      "execution_count": null,
      "outputs": []
    },
    {
      "cell_type": "markdown",
      "source": [
        "# spliting the data"
      ],
      "metadata": {
        "id": "b1_Yt8hj6csh"
      }
    },
    {
      "cell_type": "code",
      "source": [
        "from sklearn.model_selection import train_test_split"
      ],
      "metadata": {
        "id": "0_iGopgEvOyx"
      },
      "execution_count": null,
      "outputs": []
    },
    {
      "cell_type": "code",
      "source": [
        "X_train,X_test,y_train,y_test=train_test_split(x,y,test_size=0.2,random_state=42)"
      ],
      "metadata": {
        "id": "EQGf_aquvWel"
      },
      "execution_count": null,
      "outputs": []
    },
    {
      "cell_type": "markdown",
      "source": [
        "# Training model"
      ],
      "metadata": {
        "id": "EG2RX_huPo8-"
      }
    },
    {
      "cell_type": "code",
      "source": [
        "from sklearn.ensemble import RandomForestRegressor\n",
        "model=RandomForestRegressor()\n",
        "model.fit(X_train,y_train)"
      ],
      "metadata": {
        "id": "luvjP7Q4vjZN"
      },
      "execution_count": null,
      "outputs": []
    },
    {
      "cell_type": "code",
      "source": [
        "y_pred=model.predict(X_test)"
      ],
      "metadata": {
        "id": "3eHH5hDivtU5"
      },
      "execution_count": null,
      "outputs": []
    },
    {
      "cell_type": "code",
      "source": [
        "model.score(X_train,y_train)"
      ],
      "metadata": {
        "id": "eANZrs7nv1Bs"
      },
      "execution_count": null,
      "outputs": []
    },
    {
      "cell_type": "code",
      "source": [
        "model.score(X_test,y_test)\n"
      ],
      "metadata": {
        "id": "cOletG8ewCN8"
      },
      "execution_count": null,
      "outputs": []
    },
    {
      "cell_type": "code",
      "source": [
        "prediction=model.predict(X_test)"
      ],
      "metadata": {
        "id": "Trl1Nt424b4P"
      },
      "execution_count": null,
      "outputs": []
    },
    {
      "cell_type": "code",
      "source": [
        "from sklearn import metrics\n",
        "print(metrics.r2_score(y_test,prediction))"
      ],
      "metadata": {
        "id": "EWvZkSVh5EzO"
      },
      "execution_count": null,
      "outputs": []
    },
    {
      "cell_type": "code",
      "source": [
        "n_estimators=[int(x) for x in np.linspace(start=100, stop=1200, num=12)]\n",
        "max_features=['auto','sqrt']\n",
        "max_depth=[int(x) for x in np.linspace(5,30,num=6)]\n",
        "min_samples_split=[2,5,10,15,100]\n",
        "min_samples_leaf=[1,2,5,10]\n"
      ],
      "metadata": {
        "id": "GveCGgLnYzqQ"
      },
      "execution_count": null,
      "outputs": []
    },
    {
      "cell_type": "code",
      "source": [
        "random_grid={\n",
        "'n_estimators':n_estimators,\n",
        "'max_features':max_features,\n",
        "'max_depth':max_depth,\n",
        "'min_samples_split':min_samples_split,\n",
        "'min_samples_leaf':min_samples_leaf}"
      ],
      "metadata": {
        "id": "DxwzgVYXYnGv"
      },
      "execution_count": null,
      "outputs": []
    },
    {
      "cell_type": "code",
      "source": [
        "from sklearn.model_selection import RandomizedSearchCV"
      ],
      "metadata": {
        "id": "EhZrFU5AYLCy"
      },
      "execution_count": null,
      "outputs": []
    },
    {
      "cell_type": "code",
      "source": [
        "model2=RandomizedSearchCV(estimator=model, param_distributions=random_grid,scoring='neg_mean_squared_error',n_iter=10, cv=4,random_state=42,n_jobs=1)\n"
      ],
      "metadata": {
        "id": "9GqGB_qsX9RP"
      },
      "execution_count": null,
      "outputs": []
    },
    {
      "cell_type": "code",
      "source": [
        "model2.get_params()"
      ],
      "metadata": {
        "id": "X2fiATieaDyI"
      },
      "execution_count": null,
      "outputs": []
    },
    {
      "cell_type": "code",
      "source": [
        "from sklearn.metrics import r2_score\n",
        "r2_score(y_test,y_pred)\n"
      ],
      "metadata": {
        "id": "FeNtYz-Ya0Zx"
      },
      "execution_count": null,
      "outputs": []
    }
  ]
}